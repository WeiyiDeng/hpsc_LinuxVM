{
 "cells": [
  {
   "cell_type": "code",
   "execution_count": 10,
   "metadata": {
    "collapsed": false
   },
   "outputs": [
    {
     "name": "stdout",
     "output_type": "stream",
     "text": [
      "Populating the interactive namespace from numpy and matplotlib\n"
     ]
    }
   ],
   "source": [
    "%pylab inline"
   ]
  },
  {
   "cell_type": "code",
   "execution_count": 11,
   "metadata": {
    "collapsed": false
   },
   "outputs": [
    {
     "data": {
      "text/plain": [
       "u'/home/uwhpsc/wdocs/lecture6'"
      ]
     },
     "execution_count": 11,
     "metadata": {},
     "output_type": "execute_result"
    }
   ],
   "source": [
    "pwd"
   ]
  },
  {
   "cell_type": "code",
   "execution_count": 12,
   "metadata": {
    "collapsed": false
   },
   "outputs": [
    {
     "name": "stdout",
     "output_type": "stream",
     "text": [
      "/home/uwhpsc/wdocs/lecture6\n"
     ]
    }
   ],
   "source": [
    "cd ../lecture6"
   ]
  },
  {
   "cell_type": "code",
   "execution_count": 13,
   "metadata": {
    "collapsed": false
   },
   "outputs": [
    {
     "data": {
      "text/plain": [
       "u'/home/uwhpsc/wdocs/lecture6'"
      ]
     },
     "execution_count": 13,
     "metadata": {},
     "output_type": "execute_result"
    }
   ],
   "source": [
    "pwd"
   ]
  },
  {
   "cell_type": "code",
   "execution_count": 14,
   "metadata": {
    "collapsed": true
   },
   "outputs": [],
   "source": [
    "import mysqrtw"
   ]
  },
  {
   "cell_type": "code",
   "execution_count": 15,
   "metadata": {
    "collapsed": false
   },
   "outputs": [
    {
     "name": "stdout",
     "output_type": "stream",
     "text": [
      "testing for 1.000000000000000e+00\n",
      "sqrt func result is 1.000000000000000e+00 and \t\t\twsqrt func result is 1.000000000000000e+00\n",
      "testing for 2.000000000000000e+00\n",
      "sqrt func result is 1.414213562373095e+00 and \t\t\twsqrt func result is 1.414213562373095e+00\n",
      "testing for 1.000000000000000e+04\n",
      "sqrt func result is 1.000000000000000e+02 and \t\t\twsqrt func result is 1.000000000000000e+02\n",
      "testing for 1.000000000000000e-04\n",
      "sqrt func result is 1.000000000000000e-02 and \t\t\twsqrt func result is 1.000000000000000e-02\n"
     ]
    }
   ],
   "source": [
    "mysqrtw.test()"
   ]
  },
  {
   "cell_type": "code",
   "execution_count": 16,
   "metadata": {
    "collapsed": false
   },
   "outputs": [
    {
     "name": "stdout",
     "output_type": "stream",
     "text": [
      "run test\n",
      "testing for 1.000000000000000e+00\n",
      "sqrt func result is 1.000000000000000e+00 and \t\t\twsqrt func result is 1.000000000000000e+00\n",
      "testing for 2.000000000000000e+00\n",
      "sqrt func result is 1.414213562373095e+00 and \t\t\twsqrt func result is 1.414213562373095e+00\n",
      "testing for 1.000000000000000e+04\n",
      "sqrt func result is 1.000000000000000e+02 and \t\t\twsqrt func result is 1.000000000000000e+02\n",
      "testing for 1.000000000000000e-04\n",
      "sqrt func result is 1.000000000000000e-02 and \t\t\twsqrt func result is 1.000000000000000e-02\n"
     ]
    }
   ],
   "source": [
    "run mysqrtw.py"
   ]
  },
  {
   "cell_type": "code",
   "execution_count": 17,
   "metadata": {
    "collapsed": false
   },
   "outputs": [
    {
     "name": "stdout",
     "output_type": "stream",
     "text": [
      "CPU times: user 0 ns, sys: 0 ns, total: 0 ns\n",
      "Wall time: 21.9 µs\n"
     ]
    },
    {
     "data": {
      "text/plain": [
       "1.4142135623730951"
      ]
     },
     "execution_count": 17,
     "metadata": {},
     "output_type": "execute_result"
    }
   ],
   "source": [
    "time sqrt(2)"
   ]
  },
  {
   "cell_type": "code",
   "execution_count": 18,
   "metadata": {
    "collapsed": false
   },
   "outputs": [
    {
     "name": "stdout",
     "output_type": "stream",
     "text": [
      "CPU times: user 0 ns, sys: 0 ns, total: 0 ns\n",
      "Wall time: 29.8 µs\n"
     ]
    },
    {
     "data": {
      "text/plain": [
       "1.4142135623730951"
      ]
     },
     "execution_count": 18,
     "metadata": {},
     "output_type": "execute_result"
    }
   ],
   "source": [
    "time sqrt(2.)"
   ]
  },
  {
   "cell_type": "code",
   "execution_count": 19,
   "metadata": {
    "collapsed": false
   },
   "outputs": [
    {
     "name": "stdout",
     "output_type": "stream",
     "text": [
      "The slowest run took 13.61 times longer than the fastest. This could mean that an intermediate result is being cached.\n",
      "1000000 loops, best of 3: 1.1 µs per loop\n"
     ]
    }
   ],
   "source": [
    "timeit sqrt(2.)"
   ]
  },
  {
   "cell_type": "code",
   "execution_count": 20,
   "metadata": {
    "collapsed": false
   },
   "outputs": [
    {
     "name": "stdout",
     "output_type": "stream",
     "text": [
      "The slowest run took 28.28 times longer than the fastest. This could mean that an intermediate result is being cached.\n",
      "1000000 loops, best of 3: 1.1 µs per loop\n"
     ]
    }
   ],
   "source": [
    "timeit sqrt(2.)"
   ]
  },
  {
   "cell_type": "code",
   "execution_count": 21,
   "metadata": {
    "collapsed": false
   },
   "outputs": [
    {
     "name": "stdout",
     "output_type": "stream",
     "text": [
      "The slowest run took 5.03 times longer than the fastest. This could mean that an intermediate result is being cached.\n",
      "100000 loops, best of 3: 2.8 µs per loop\n"
     ]
    }
   ],
   "source": [
    "timeit mysqrtw.wsqrt(2.)"
   ]
  },
  {
   "cell_type": "code",
   "execution_count": 23,
   "metadata": {
    "collapsed": false
   },
   "outputs": [
    {
     "name": "stdout",
     "output_type": "stream",
     "text": [
      "100000 loops, best of 3: 15 µs per loop\n"
     ]
    }
   ],
   "source": [
    "timeit sqrt(linspace(0,1,1000))"
   ]
  },
  {
   "cell_type": "code",
   "execution_count": 30,
   "metadata": {
    "collapsed": false
   },
   "outputs": [
    {
     "name": "stdout",
     "output_type": "stream",
     "text": [
      "1000 loops, best of 3: 1.32 ms per loop\n"
     ]
    }
   ],
   "source": [
    "%%timeit        # send everything in the cell to timeit\n",
    "y = zeros(1000)\n",
    "for i in range(1000):         # if use loops have to interpret, cannot use compiled functions\n",
    "    y[i]=sqrt(i)              # much slower"
   ]
  },
  {
   "cell_type": "code",
   "execution_count": null,
   "metadata": {
    "collapsed": true
   },
   "outputs": [],
   "source": []
  }
 ],
 "metadata": {
  "kernelspec": {
   "display_name": "Python 2",
   "language": "python",
   "name": "python2"
  },
  "language_info": {
   "codemirror_mode": {
    "name": "ipython",
    "version": 2
   },
   "file_extension": ".py",
   "mimetype": "text/x-python",
   "name": "python",
   "nbconvert_exporter": "python",
   "pygments_lexer": "ipython2",
   "version": "2.7.3"
  }
 },
 "nbformat": 4,
 "nbformat_minor": 1
}
